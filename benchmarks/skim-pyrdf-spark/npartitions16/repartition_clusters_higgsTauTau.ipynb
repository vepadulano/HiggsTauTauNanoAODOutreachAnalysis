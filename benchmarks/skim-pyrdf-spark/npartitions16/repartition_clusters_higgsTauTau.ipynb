{
 "cells": [
  {
   "cell_type": "code",
   "execution_count": 1,
   "metadata": {},
   "outputs": [
    {
     "name": "stdout",
     "output_type": "stream",
     "text": [
      "Welcome to JupyROOT 6.19/01\n"
     ]
    }
   ],
   "source": [
    "from __future__ import print_function\n",
    "\n",
    "import ROOT"
   ]
  },
  {
   "cell_type": "code",
   "execution_count": 3,
   "metadata": {},
   "outputs": [],
   "source": [
    "# Base path to local filesystem or to EOS containing the datasets\n",
    "samplesBasePath = (\"root://eospublic.cern.ch//eos/opendata/cms/upload/stefan/\"\n",
    "                   \"AOD2NanoAODOutreachTool/HiggsTauTauNanoAODOutreachAnalysis/\")\n",
    "\n",
    "# Names of the datasets to be found in the base path and processed for the analysis\n",
    "sampleNames = [\n",
    "    \"GluGluToHToTauTau\",\n",
    "    \"VBF_HToTauTau\",\n",
    "    \"DYJetsToLL\",\n",
    "    \"TTbar\",\n",
    "    \"W1JetsToLNu\",\n",
    "    \"W2JetsToLNu\",\n",
    "    \"W3JetsToLNu\",\n",
    "    \"Run2012B_TauPlusX\",\n",
    "    \"Run2012C_TauPlusX\",\n",
    "]\n",
    "\n",
    "# Base path to repartitoned datasets destination on EOS\n",
    "\n",
    "out_base_path = \"root://eosuser.cern.ch//eos/user/v/vpadulan/higgsTauTauAnalysis/benchmarks/skim-pyrdf-spark/16ex1core/repartitioned-data/\""
   ]
  },
  {
   "cell_type": "code",
   "execution_count": 4,
   "metadata": {},
   "outputs": [
    {
     "name": "stdout",
     "output_type": "stream",
     "text": [
      "Repartitioning dataset: \n",
      "GluGluToHToTauTau:\n",
      "8 clusters.\n",
      "\n",
      "Repartitioning dataset: \n",
      "VBF_HToTauTau:\n",
      "9 clusters.\n",
      "\n",
      "Repartitioning dataset: \n",
      "DYJetsToLL:\n",
      "349 clusters.\n",
      "\n",
      "Repartitioning dataset: \n",
      "TTbar:\n",
      "134 clusters.\n",
      "\n",
      "Repartitioning dataset: \n",
      "W1JetsToLNu:\n",
      "398 clusters.\n",
      "\n",
      "Repartitioning dataset: \n",
      "W2JetsToLNu:\n",
      "453 clusters.\n",
      "\n",
      "Repartitioning dataset: \n",
      "W3JetsToLNu:\n",
      "243 clusters.\n",
      "\n",
      "Repartitioning dataset: \n",
      "Run2012B_TauPlusX:\n",
      "436 clusters.\n",
      "\n",
      "Repartitioning dataset: \n",
      "Run2012C_TauPlusX:\n",
      "588 clusters.\n",
      "\n"
     ]
    }
   ],
   "source": [
    "min_clusters = 16\n",
    "\n",
    "for name in sampleNames:\n",
    "    print(\"Repartitioning dataset: \\n{}:\".format(name))\n",
    "    filename = samplesBasePath + name + \".root\"\n",
    "    treename = \"Events\"\n",
    "    \n",
    "    f = ROOT.TFile.Open(filename)\n",
    "    t = f.Get(treename)\n",
    "\n",
    "    entries = t.GetEntriesFast()\n",
    "    it = t.GetClusterIterator(0)\n",
    "    start = it()\n",
    "    end = 0\n",
    "\n",
    "    clusters = []\n",
    "    while start < entries:\n",
    "        end = it()\n",
    "        cluster = (start, end)\n",
    "        clusters.append(cluster)\n",
    "        start = end\n",
    "    \n",
    "    numclusters = len(clusters)\n",
    "    print(\"{} clusters.\\n\".format(numclusters))\n",
    "    if numclusters < min_clusters:\n",
    "        init_rdf = ROOT.RDataFrame(treename, filename)\n",
    "        nentries = init_rdf.Count().GetValue()\n",
    "\n",
    "        num_clusters = min_clusters\n",
    "        entries_per_cluster = nentries // num_clusters\n",
    "        remainder = nentries % num_clusters\n",
    "        \n",
    "        if remainder > 0:\n",
    "            entries_per_cluster += 1\n",
    "\n",
    "        # A simple helper function to fill a test tree: this makes the example stand-alone.\n",
    "        rsops = ROOT.ROOT.RDF.RSnapshotOptions(\n",
    "                 \"RECREATE\",       # mode\n",
    "                 ROOT.ROOT.kZLIB,  # compression algorithm\n",
    "                 1,                # compression level\n",
    "                 entries_per_cluster,              # autoflush, number of events per cluster\n",
    "                 99,               # split level of output tree\n",
    "                 0                 # lazy\n",
    "                )\n",
    "        \n",
    "        out_filename = out_base_path + name + \".root\"\n",
    "        init_rdf.Snapshot(treename, out_filename, \"\", rsops)"
   ]
  },
  {
   "cell_type": "code",
   "execution_count": 4,
   "metadata": {},
   "outputs": [
    {
     "name": "stdout",
     "output_type": "stream",
     "text": [
      "[(0, 93591), (93591, 187182), (187182, 280773), (280773, 374364), (374364, 467955), (467955, 561546), (561546, 655137), (655137, 748728), (748728, 842319), (842319, 935910), (935910, 1029501), (1029501, 1123092), (1123092, 1216683), (1216683, 1310274), (1310274, 1403865), (1403865, 1497445)]\n",
      "16\n"
     ]
    }
   ],
   "source": [
    "f = ROOT.TFile.Open(out_base_path + \"ZZTo2e2mu.root\")\n",
    "t = f.Get(treename)\n",
    "\n",
    "entries = t.GetEntriesFast()\n",
    "it = t.GetClusterIterator(0)\n",
    "start = it()\n",
    "end = 0\n",
    "\n",
    "clusters = []\n",
    "while start < entries:\n",
    "    end = it()\n",
    "    cluster = (start, end)\n",
    "    clusters.append(cluster)\n",
    "    start = end\n",
    "\n",
    "print(clusters)\n",
    "print(len(clusters))"
   ]
  },
  {
   "cell_type": "code",
   "execution_count": null,
   "metadata": {},
   "outputs": [],
   "source": []
  }
 ],
 "metadata": {
  "kernelspec": {
   "display_name": "Python 3",
   "language": "python",
   "name": "python3"
  },
  "language_info": {
   "codemirror_mode": {
    "name": "ipython",
    "version": 3
   },
   "file_extension": ".py",
   "mimetype": "text/x-python",
   "name": "python",
   "nbconvert_exporter": "python",
   "pygments_lexer": "ipython3",
   "version": "3.6.5"
  }
 },
 "nbformat": 4,
 "nbformat_minor": 2
}
