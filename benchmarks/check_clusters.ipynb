{
 "cells": [
  {
   "cell_type": "code",
   "execution_count": 2,
   "metadata": {},
   "outputs": [
    {
     "name": "stdout",
     "output_type": "stream",
     "text": [
      "Welcome to JupyROOT 6.18/00\n"
     ]
    }
   ],
   "source": [
    "from __future__ import print_function\n",
    "\n",
    "import ROOT"
   ]
  },
  {
   "cell_type": "code",
   "execution_count": 3,
   "metadata": {},
   "outputs": [],
   "source": [
    "\"\"\"\n",
    "Base path to local filesystem or to EOS containing the datasets\n",
    "\"\"\"\n",
    "samplesBasePath = \"root://eospublic.cern.ch//eos/opendata/cms/upload/stefan/AOD2NanoAODOutreachTool/HiggsTauTauNanoAODOutreachAnalysis/\"\n",
    "\n",
    "\"\"\"\n",
    "Namesinci210 of the datasets to be found in the base path and processed for the analysis\n",
    "\"\"\"\n",
    "sampleNames = [\n",
    "    \"GluGluToHToTauTau\",\n",
    "    \"VBF_HToTauTau\",\n",
    "    \"DYJetsToLL\",\n",
    "    \"TTbar\",\n",
    "    \"W1JetsToLNu\",\n",
    "    \"W2JetsToLNu\",\n",
    "    \"W3JetsToLNu\",\n",
    "    \"Run2012B_TauPlusX\",\n",
    "    \"Run2012C_TauPlusX\",\n",
    "]"
   ]
  },
  {
   "cell_type": "code",
   "execution_count": 8,
   "metadata": {},
   "outputs": [
    {
     "name": "stdout",
     "output_type": "stream",
     "text": [
      "{'Run2012C_TauPlusX': 588, 'Run2012B_TauPlusX': 436, 'VBF_HToTauTau': 9, 'W3JetsToLNu': 243, 'W2JetsToLNu': 453, 'GluGluToHToTauTau': 8, 'TTbar': 134, 'DYJetsToLL': 349, 'W1JetsToLNu': 398}\n"
     ]
    }
   ],
   "source": [
    "file_clusters = {}\n",
    "offset = 0\n",
    "\n",
    "for name in sampleNames:\n",
    "    filename = samplesBasePath + name + \".root\"\n",
    "    treename = \"Events\"\n",
    "    print\n",
    "    f = ROOT.TFile.Open(filename)\n",
    "    t = f.Get(treename)\n",
    "\n",
    "    entries = t.GetEntriesFast()\n",
    "    it = t.GetClusterIterator(0)\n",
    "    start = it()\n",
    "    end = 0\n",
    "    \n",
    "    clusters = []\n",
    "    while start < entries:\n",
    "        end = it()\n",
    "        cluster = (start, end)\n",
    "        clusters.append(cluster)\n",
    "        start = end\n",
    "    \n",
    "    file_clusters[name] = len(clusters)\n",
    "    \n",
    "\n",
    "print(file_clusters)"
   ]
  },
  {
   "cell_type": "code",
   "execution_count": 22,
   "metadata": {
    "scrolled": false
   },
   "outputs": [
    {
     "name": "stdout",
     "output_type": "stream",
     "text": [
      "File: root://eospublic.cern.ch//eos/opendata/cms/upload/stefan/AOD2NanoAODOutreachTool/HiggsTauTauNanoAODOutreachAnalysis/GluGluToHToTauTau.root\n",
      "\n",
      "Entries: 476963\n",
      "\n",
      "Columns: 69\n",
      "\n",
      "['run', 'luminosityBlock', 'event', 'HLT_IsoMu24_eta2p1', 'HLT_IsoMu24', 'HLT_IsoMu17_eta2p1_LooseIsoPFTau20', 'PV_npvs', 'PV_x', 'PV_y', 'PV_z', 'nMuon', 'Muon_pt', 'Muon_eta', 'Muon_phi', 'Muon_mass', 'Muon_charge', 'Muon_pfRelIso03_all', 'Muon_pfRelIso04_all', 'Muon_tightId', 'Muon_softId', 'Muon_dxy', 'Muon_dxyErr', 'Muon_dz', 'Muon_dzErr', 'Muon_jetIdx', 'Muon_genPartIdx', 'nTau', 'Tau_pt', 'Tau_eta', 'Tau_phi', 'Tau_mass', 'Tau_charge', 'Tau_decayMode', 'Tau_relIso_all', 'Tau_jetIdx', 'Tau_genPartIdx', 'Tau_idDecayMode', 'Tau_idIsoRaw', 'Tau_idIsoVLoose', 'Tau_idIsoLoose', 'Tau_idIsoMedium', 'Tau_idIsoTight', 'Tau_idAntiEleLoose', 'Tau_idAntiEleMedium', 'Tau_idAntiEleTight', 'Tau_idAntiMuLoose', 'Tau_idAntiMuMedium', 'Tau_idAntiMuTight', 'MET_pt', 'MET_phi', 'MET_sumet', 'MET_significance', 'MET_CovXX', 'MET_CovXY', 'MET_CovYY', 'nJet', 'Jet_pt', 'Jet_eta', 'Jet_phi', 'Jet_mass', 'Jet_puId', 'Jet_btag', 'nGenPart', 'GenPart_pt', 'GenPart_eta', 'GenPart_phi', 'GenPart_mass', 'GenPart_pdgId', 'GenPart_status'] \n",
      "\n",
      "File: root://eospublic.cern.ch//eos/opendata/cms/upload/stefan/AOD2NanoAODOutreachTool/HiggsTauTauNanoAODOutreachAnalysis/VBF_HToTauTau.root\n",
      "\n",
      "Entries: 491653\n",
      "\n",
      "Columns: 69\n",
      "\n",
      "['run', 'luminosityBlock', 'event', 'HLT_IsoMu24_eta2p1', 'HLT_IsoMu24', 'HLT_IsoMu17_eta2p1_LooseIsoPFTau20', 'PV_npvs', 'PV_x', 'PV_y', 'PV_z', 'nMuon', 'Muon_pt', 'Muon_eta', 'Muon_phi', 'Muon_mass', 'Muon_charge', 'Muon_pfRelIso03_all', 'Muon_pfRelIso04_all', 'Muon_tightId', 'Muon_softId', 'Muon_dxy', 'Muon_dxyErr', 'Muon_dz', 'Muon_dzErr', 'Muon_jetIdx', 'Muon_genPartIdx', 'nTau', 'Tau_pt', 'Tau_eta', 'Tau_phi', 'Tau_mass', 'Tau_charge', 'Tau_decayMode', 'Tau_relIso_all', 'Tau_jetIdx', 'Tau_genPartIdx', 'Tau_idDecayMode', 'Tau_idIsoRaw', 'Tau_idIsoVLoose', 'Tau_idIsoLoose', 'Tau_idIsoMedium', 'Tau_idIsoTight', 'Tau_idAntiEleLoose', 'Tau_idAntiEleMedium', 'Tau_idAntiEleTight', 'Tau_idAntiMuLoose', 'Tau_idAntiMuMedium', 'Tau_idAntiMuTight', 'MET_pt', 'MET_phi', 'MET_sumet', 'MET_significance', 'MET_CovXX', 'MET_CovXY', 'MET_CovYY', 'nJet', 'Jet_pt', 'Jet_eta', 'Jet_phi', 'Jet_mass', 'Jet_puId', 'Jet_btag', 'nGenPart', 'GenPart_pt', 'GenPart_eta', 'GenPart_phi', 'GenPart_mass', 'GenPart_pdgId', 'GenPart_status'] \n",
      "\n",
      "File: root://eospublic.cern.ch//eos/opendata/cms/upload/stefan/AOD2NanoAODOutreachTool/HiggsTauTauNanoAODOutreachAnalysis/DYJetsToLL.root\n",
      "\n",
      "Entries: 30458871\n",
      "\n",
      "Columns: 69\n",
      "\n",
      "['run', 'luminosityBlock', 'event', 'HLT_IsoMu24_eta2p1', 'HLT_IsoMu24', 'HLT_IsoMu17_eta2p1_LooseIsoPFTau20', 'PV_npvs', 'PV_x', 'PV_y', 'PV_z', 'nMuon', 'Muon_pt', 'Muon_eta', 'Muon_phi', 'Muon_mass', 'Muon_charge', 'Muon_pfRelIso03_all', 'Muon_pfRelIso04_all', 'Muon_tightId', 'Muon_softId', 'Muon_dxy', 'Muon_dxyErr', 'Muon_dz', 'Muon_dzErr', 'Muon_jetIdx', 'Muon_genPartIdx', 'nTau', 'Tau_pt', 'Tau_eta', 'Tau_phi', 'Tau_mass', 'Tau_charge', 'Tau_decayMode', 'Tau_relIso_all', 'Tau_jetIdx', 'Tau_genPartIdx', 'Tau_idDecayMode', 'Tau_idIsoRaw', 'Tau_idIsoVLoose', 'Tau_idIsoLoose', 'Tau_idIsoMedium', 'Tau_idIsoTight', 'Tau_idAntiEleLoose', 'Tau_idAntiEleMedium', 'Tau_idAntiEleTight', 'Tau_idAntiMuLoose', 'Tau_idAntiMuMedium', 'Tau_idAntiMuTight', 'MET_pt', 'MET_phi', 'MET_sumet', 'MET_significance', 'MET_CovXX', 'MET_CovXY', 'MET_CovYY', 'nJet', 'Jet_pt', 'Jet_eta', 'Jet_phi', 'Jet_mass', 'Jet_puId', 'Jet_btag', 'nGenPart', 'GenPart_pt', 'GenPart_eta', 'GenPart_phi', 'GenPart_mass', 'GenPart_pdgId', 'GenPart_status'] \n",
      "\n",
      "File: root://eospublic.cern.ch//eos/opendata/cms/upload/stefan/AOD2NanoAODOutreachTool/HiggsTauTauNanoAODOutreachAnalysis/TTbar.root\n",
      "\n",
      "Entries: 6423106\n",
      "\n",
      "Columns: 69\n",
      "\n",
      "['run', 'luminosityBlock', 'event', 'HLT_IsoMu24_eta2p1', 'HLT_IsoMu24', 'HLT_IsoMu17_eta2p1_LooseIsoPFTau20', 'PV_npvs', 'PV_x', 'PV_y', 'PV_z', 'nMuon', 'Muon_pt', 'Muon_eta', 'Muon_phi', 'Muon_mass', 'Muon_charge', 'Muon_pfRelIso03_all', 'Muon_pfRelIso04_all', 'Muon_tightId', 'Muon_softId', 'Muon_dxy', 'Muon_dxyErr', 'Muon_dz', 'Muon_dzErr', 'Muon_jetIdx', 'Muon_genPartIdx', 'nTau', 'Tau_pt', 'Tau_eta', 'Tau_phi', 'Tau_mass', 'Tau_charge', 'Tau_decayMode', 'Tau_relIso_all', 'Tau_jetIdx', 'Tau_genPartIdx', 'Tau_idDecayMode', 'Tau_idIsoRaw', 'Tau_idIsoVLoose', 'Tau_idIsoLoose', 'Tau_idIsoMedium', 'Tau_idIsoTight', 'Tau_idAntiEleLoose', 'Tau_idAntiEleMedium', 'Tau_idAntiEleTight', 'Tau_idAntiMuLoose', 'Tau_idAntiMuMedium', 'Tau_idAntiMuTight', 'MET_pt', 'MET_phi', 'MET_sumet', 'MET_significance', 'MET_CovXX', 'MET_CovXY', 'MET_CovYY', 'nJet', 'Jet_pt', 'Jet_eta', 'Jet_phi', 'Jet_mass', 'Jet_puId', 'Jet_btag', 'nGenPart', 'GenPart_pt', 'GenPart_eta', 'GenPart_phi', 'GenPart_mass', 'GenPart_pdgId', 'GenPart_status'] \n",
      "\n",
      "File: root://eospublic.cern.ch//eos/opendata/cms/upload/stefan/AOD2NanoAODOutreachTool/HiggsTauTauNanoAODOutreachAnalysis/W1JetsToLNu.root\n",
      "\n",
      "Entries: 29784800\n",
      "\n",
      "Columns: 69\n",
      "\n",
      "['run', 'luminosityBlock', 'event', 'HLT_IsoMu24_eta2p1', 'HLT_IsoMu24', 'HLT_IsoMu17_eta2p1_LooseIsoPFTau20', 'PV_npvs', 'PV_x', 'PV_y', 'PV_z', 'nMuon', 'Muon_pt', 'Muon_eta', 'Muon_phi', 'Muon_mass', 'Muon_charge', 'Muon_pfRelIso03_all', 'Muon_pfRelIso04_all', 'Muon_tightId', 'Muon_softId', 'Muon_dxy', 'Muon_dxyErr', 'Muon_dz', 'Muon_dzErr', 'Muon_jetIdx', 'Muon_genPartIdx', 'nTau', 'Tau_pt', 'Tau_eta', 'Tau_phi', 'Tau_mass', 'Tau_charge', 'Tau_decayMode', 'Tau_relIso_all', 'Tau_jetIdx', 'Tau_genPartIdx', 'Tau_idDecayMode', 'Tau_idIsoRaw', 'Tau_idIsoVLoose', 'Tau_idIsoLoose', 'Tau_idIsoMedium', 'Tau_idIsoTight', 'Tau_idAntiEleLoose', 'Tau_idAntiEleMedium', 'Tau_idAntiEleTight', 'Tau_idAntiMuLoose', 'Tau_idAntiMuMedium', 'Tau_idAntiMuTight', 'MET_pt', 'MET_phi', 'MET_sumet', 'MET_significance', 'MET_CovXX', 'MET_CovXY', 'MET_CovYY', 'nJet', 'Jet_pt', 'Jet_eta', 'Jet_phi', 'Jet_mass', 'Jet_puId', 'Jet_btag', 'nGenPart', 'GenPart_pt', 'GenPart_eta', 'GenPart_phi', 'GenPart_mass', 'GenPart_pdgId', 'GenPart_status'] \n",
      "\n",
      "File: root://eospublic.cern.ch//eos/opendata/cms/upload/stefan/AOD2NanoAODOutreachTool/HiggsTauTauNanoAODOutreachAnalysis/W2JetsToLNu.root\n",
      "\n",
      "Entries: 30693853\n",
      "\n",
      "Columns: 69\n",
      "\n",
      "['run', 'luminosityBlock', 'event', 'HLT_IsoMu24_eta2p1', 'HLT_IsoMu24', 'HLT_IsoMu17_eta2p1_LooseIsoPFTau20', 'PV_npvs', 'PV_x', 'PV_y', 'PV_z', 'nMuon', 'Muon_pt', 'Muon_eta', 'Muon_phi', 'Muon_mass', 'Muon_charge', 'Muon_pfRelIso03_all', 'Muon_pfRelIso04_all', 'Muon_tightId', 'Muon_softId', 'Muon_dxy', 'Muon_dxyErr', 'Muon_dz', 'Muon_dzErr', 'Muon_jetIdx', 'Muon_genPartIdx', 'nTau', 'Tau_pt', 'Tau_eta', 'Tau_phi', 'Tau_mass', 'Tau_charge', 'Tau_decayMode', 'Tau_relIso_all', 'Tau_jetIdx', 'Tau_genPartIdx', 'Tau_idDecayMode', 'Tau_idIsoRaw', 'Tau_idIsoVLoose', 'Tau_idIsoLoose', 'Tau_idIsoMedium', 'Tau_idIsoTight', 'Tau_idAntiEleLoose', 'Tau_idAntiEleMedium', 'Tau_idAntiEleTight', 'Tau_idAntiMuLoose', 'Tau_idAntiMuMedium', 'Tau_idAntiMuTight', 'MET_pt', 'MET_phi', 'MET_sumet', 'MET_significance', 'MET_CovXX', 'MET_CovXY', 'MET_CovYY', 'nJet', 'Jet_pt', 'Jet_eta', 'Jet_phi', 'Jet_mass', 'Jet_puId', 'Jet_btag', 'nGenPart', 'GenPart_pt', 'GenPart_eta', 'GenPart_phi', 'GenPart_mass', 'GenPart_pdgId', 'GenPart_status'] \n",
      "\n",
      "File: root://eospublic.cern.ch//eos/opendata/cms/upload/stefan/AOD2NanoAODOutreachTool/HiggsTauTauNanoAODOutreachAnalysis/W3JetsToLNu.root\n",
      "\n",
      "Entries: 15241144\n",
      "\n",
      "Columns: 69\n",
      "\n",
      "['run', 'luminosityBlock', 'event', 'HLT_IsoMu24_eta2p1', 'HLT_IsoMu24', 'HLT_IsoMu17_eta2p1_LooseIsoPFTau20', 'PV_npvs', 'PV_x', 'PV_y', 'PV_z', 'nMuon', 'Muon_pt', 'Muon_eta', 'Muon_phi', 'Muon_mass', 'Muon_charge', 'Muon_pfRelIso03_all', 'Muon_pfRelIso04_all', 'Muon_tightId', 'Muon_softId', 'Muon_dxy', 'Muon_dxyErr', 'Muon_dz', 'Muon_dzErr', 'Muon_jetIdx', 'Muon_genPartIdx', 'nTau', 'Tau_pt', 'Tau_eta', 'Tau_phi', 'Tau_mass', 'Tau_charge', 'Tau_decayMode', 'Tau_relIso_all', 'Tau_jetIdx', 'Tau_genPartIdx', 'Tau_idDecayMode', 'Tau_idIsoRaw', 'Tau_idIsoVLoose', 'Tau_idIsoLoose', 'Tau_idIsoMedium', 'Tau_idIsoTight', 'Tau_idAntiEleLoose', 'Tau_idAntiEleMedium', 'Tau_idAntiEleTight', 'Tau_idAntiMuLoose', 'Tau_idAntiMuMedium', 'Tau_idAntiMuTight', 'MET_pt', 'MET_phi', 'MET_sumet', 'MET_significance', 'MET_CovXX', 'MET_CovXY', 'MET_CovYY', 'nJet', 'Jet_pt', 'Jet_eta', 'Jet_phi', 'Jet_mass', 'Jet_puId', 'Jet_btag', 'nGenPart', 'GenPart_pt', 'GenPart_eta', 'GenPart_phi', 'GenPart_mass', 'GenPart_pdgId', 'GenPart_status'] \n",
      "\n",
      "File: root://eospublic.cern.ch//eos/opendata/cms/upload/stefan/AOD2NanoAODOutreachTool/HiggsTauTauNanoAODOutreachAnalysis/Run2012B_TauPlusX.root\n",
      "\n",
      "Entries: 35647508\n",
      "\n",
      "Columns: 62\n",
      "\n"
     ]
    },
    {
     "name": "stdout",
     "output_type": "stream",
     "text": [
      "['run', 'luminosityBlock', 'event', 'HLT_IsoMu24_eta2p1', 'HLT_IsoMu24', 'HLT_IsoMu17_eta2p1_LooseIsoPFTau20', 'PV_npvs', 'PV_x', 'PV_y', 'PV_z', 'nMuon', 'Muon_pt', 'Muon_eta', 'Muon_phi', 'Muon_mass', 'Muon_charge', 'Muon_pfRelIso03_all', 'Muon_pfRelIso04_all', 'Muon_tightId', 'Muon_softId', 'Muon_dxy', 'Muon_dxyErr', 'Muon_dz', 'Muon_dzErr', 'Muon_jetIdx', 'Muon_genPartIdx', 'nTau', 'Tau_pt', 'Tau_eta', 'Tau_phi', 'Tau_mass', 'Tau_charge', 'Tau_decayMode', 'Tau_relIso_all', 'Tau_jetIdx', 'Tau_genPartIdx', 'Tau_idDecayMode', 'Tau_idIsoRaw', 'Tau_idIsoVLoose', 'Tau_idIsoLoose', 'Tau_idIsoMedium', 'Tau_idIsoTight', 'Tau_idAntiEleLoose', 'Tau_idAntiEleMedium', 'Tau_idAntiEleTight', 'Tau_idAntiMuLoose', 'Tau_idAntiMuMedium', 'Tau_idAntiMuTight', 'MET_pt', 'MET_phi', 'MET_sumet', 'MET_significance', 'MET_CovXX', 'MET_CovXY', 'MET_CovYY', 'nJet', 'Jet_pt', 'Jet_eta', 'Jet_phi', 'Jet_mass', 'Jet_puId', 'Jet_btag'] \n",
      "\n",
      "File: root://eospublic.cern.ch//eos/opendata/cms/upload/stefan/AOD2NanoAODOutreachTool/HiggsTauTauNanoAODOutreachAnalysis/Run2012C_TauPlusX.root\n",
      "\n",
      "Entries: 51303171\n",
      "\n",
      "Columns: 62\n",
      "\n",
      "['run', 'luminosityBlock', 'event', 'HLT_IsoMu24_eta2p1', 'HLT_IsoMu24', 'HLT_IsoMu17_eta2p1_LooseIsoPFTau20', 'PV_npvs', 'PV_x', 'PV_y', 'PV_z', 'nMuon', 'Muon_pt', 'Muon_eta', 'Muon_phi', 'Muon_mass', 'Muon_charge', 'Muon_pfRelIso03_all', 'Muon_pfRelIso04_all', 'Muon_tightId', 'Muon_softId', 'Muon_dxy', 'Muon_dxyErr', 'Muon_dz', 'Muon_dzErr', 'Muon_jetIdx', 'Muon_genPartIdx', 'nTau', 'Tau_pt', 'Tau_eta', 'Tau_phi', 'Tau_mass', 'Tau_charge', 'Tau_decayMode', 'Tau_relIso_all', 'Tau_jetIdx', 'Tau_genPartIdx', 'Tau_idDecayMode', 'Tau_idIsoRaw', 'Tau_idIsoVLoose', 'Tau_idIsoLoose', 'Tau_idIsoMedium', 'Tau_idIsoTight', 'Tau_idAntiEleLoose', 'Tau_idAntiEleMedium', 'Tau_idAntiEleTight', 'Tau_idAntiMuLoose', 'Tau_idAntiMuMedium', 'Tau_idAntiMuTight', 'MET_pt', 'MET_phi', 'MET_sumet', 'MET_significance', 'MET_CovXX', 'MET_CovXY', 'MET_CovYY', 'nJet', 'Jet_pt', 'Jet_eta', 'Jet_phi', 'Jet_mass', 'Jet_puId', 'Jet_btag'] \n",
      "\n"
     ]
    }
   ],
   "source": [
    "files_cols = []\n",
    "for name in sampleNames:\n",
    "    filename = samplesBasePath + name + \".root\"\n",
    "    treename = \"Events\"\n",
    "    \n",
    "    df = ROOT.RDataFrame(treename, filename)\n",
    "    \n",
    "    columns = df.GetColumnNames()\n",
    "    columns = list(columns)\n",
    "    \n",
    "    count = df.Count()\n",
    "    print(\"File: {}\\n\".format(filename))\n",
    "    print(\"Entries: {}\\n\".format(count.GetValue()))\n",
    "    print(\"Columns: {}\\n\".format(len(columns)))\n",
    "    print(columns, \"\\n\")\n",
    "    files_cols.append(list(columns))"
   ]
  },
  {
   "cell_type": "code",
   "execution_count": null,
   "metadata": {},
   "outputs": [],
   "source": [
    "print(\"Files: 9\")\n",
    "print(\"Columns in files:\")\n",
    "for cols in zip(*files_cols):\n",
    "    print({\n",
    "        col: cols.count(col)\n",
    "        for col in cols\n",
    "    })\n"
   ]
  },
  {
   "cell_type": "code",
   "execution_count": null,
   "metadata": {},
   "outputs": [],
   "source": []
  }
 ],
 "metadata": {
  "kernelspec": {
   "display_name": "Python 3",
   "language": "python",
   "name": "python3"
  },
  "language_info": {
   "codemirror_mode": {
    "name": "ipython",
    "version": 3
   },
   "file_extension": ".py",
   "mimetype": "text/x-python",
   "name": "python",
   "nbconvert_exporter": "python",
   "pygments_lexer": "ipython3",
   "version": "3.6.5"
  }
 },
 "nbformat": 4,
 "nbformat_minor": 2
}
